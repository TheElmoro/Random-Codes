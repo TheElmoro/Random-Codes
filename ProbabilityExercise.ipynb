{
  "nbformat": 4,
  "nbformat_minor": 0,
  "metadata": {
    "colab": {
      "provenance": [],
      "authorship_tag": "ABX9TyP1EnyLnMKaxP9cQ45GjH+M",
      "include_colab_link": true
    },
    "kernelspec": {
      "name": "python3",
      "display_name": "Python 3"
    },
    "language_info": {
      "name": "python"
    }
  },
  "cells": [
    {
      "cell_type": "markdown",
      "metadata": {
        "id": "view-in-github",
        "colab_type": "text"
      },
      "source": [
        "<a href=\"https://colab.research.google.com/github/TheElmoro/Random-Codes/blob/main/ProbabilityExercise.ipynb\" target=\"_parent\"><img src=\"https://colab.research.google.com/assets/colab-badge.svg\" alt=\"Open In Colab\"/></a>"
      ]
    },
    {
      "cell_type": "code",
      "execution_count": 14,
      "metadata": {
        "colab": {
          "base_uri": "https://localhost:8080/"
        },
        "id": "l5Ox_wBCTyrD",
        "outputId": "3b91940f-c21c-4758-b77c-0429ac4a9023"
      },
      "outputs": [
        {
          "output_type": "stream",
          "name": "stdout",
          "text": [
            "Our updated belief that our friend is late : 0.60\n"
          ]
        }
      ],
      "source": [
        "p_late = 0.3\n",
        "p_traffic = 0.4\n",
        "\n",
        "p_traffic_given_late = 0.8\n",
        "\n",
        "p_late_given_traffic = ( p_traffic_given_late * p_late ) / p_traffic\n",
        "\n",
        "print (f\"Our updated belief that our friend is late : {p_late_given_traffic :.2f}\")"
      ]
    },
    {
      "cell_type": "code",
      "source": [
        "import numpy as np\n",
        "\n",
        "class_A_scores = [85 , 86, 84, 85, 85]\n",
        "class_B_scores = [60 , 100 , 70, 95, 80]\n",
        "\n",
        "mean_A = np. mean ( class_A_scores )\n",
        "var_A = np.var( class_A_scores )\n",
        "std_A = np.std( class_A_scores )\n",
        "print (f\" Class A: Mean = { mean_A :.1f}, Var = { var_A :.2f} Std Dev = { std_A :.2f}\")\n",
        "\n",
        "mean_B = np. mean ( class_B_scores )\n",
        "var_B = np.var( class_B_scores )\n",
        "std_B = np.std( class_B_scores )\n",
        "print (f\" Class B: Mean = { mean_B :.1f}, Var = { var_B :.2f}, Std Dev = { std_B :.2f}\")"
      ],
      "metadata": {
        "colab": {
          "base_uri": "https://localhost:8080/"
        },
        "id": "HdJyyIkXUdPF",
        "outputId": "cd073368-e638-4356-d4dc-ba2b0bf6b761"
      },
      "execution_count": 15,
      "outputs": [
        {
          "output_type": "stream",
          "name": "stdout",
          "text": [
            " Class A: Mean = 85.0, Var = 0.40 Std Dev = 0.63\n",
            " Class B: Mean = 81.0, Var = 224.00, Std Dev = 14.97\n"
          ]
        }
      ]
    },
    {
      "cell_type": "code",
      "source": [
        "total_cards = 52\n",
        "kings_in_deck = 4\n",
        "\n",
        "p_first_king = kings_in_deck / total_cards\n",
        "cards_left = total_cards - 1\n",
        "kings_left = kings_in_deck - 1\n",
        "\n",
        "p_second_king_given_first = kings_left / cards_left\n",
        "p_both_kings = p_first_king * p_second_king_given_first\n",
        "print (f\"The probability is: { p_both_kings :.4f}\")"
      ],
      "metadata": {
        "colab": {
          "base_uri": "https://localhost:8080/"
        },
        "id": "iiVQYHQlUxEt",
        "outputId": "20490da3-0dcd-470f-c167-b73ef39f8f67"
      },
      "execution_count": 16,
      "outputs": [
        {
          "output_type": "stream",
          "name": "stdout",
          "text": [
            "The probability is: 0.0045\n"
          ]
        }
      ]
    },
    {
      "cell_type": "code",
      "source": [
        "disease_prevalence = 1 / 1000\n",
        "test_accuracy = 0.99\n",
        "false_positive_rate = 0.02\n",
        "p_disease = disease_prevalence\n",
        "p_no_disease = 1 - p_disease\n",
        "p_pos_given_disease = test_accuracy\n",
        "p_pos_given_no_disease = false_positive_rate\n",
        "\n",
        "p_positive = ( p_pos_given_disease * p_disease ) + ( p_pos_given_no_disease * p_no_disease )\n",
        "p_disease_given_pos = ( p_pos_given_disease * p_disease) / p_positive\n",
        "print (f\"The probability is: { p_disease_given_pos :.3f}\")"
      ],
      "metadata": {
        "colab": {
          "base_uri": "https://localhost:8080/"
        },
        "id": "5IJoueyMVC18",
        "outputId": "e9b7386c-0c1e-4019-f682-4e602b6b160f"
      },
      "execution_count": 17,
      "outputs": [
        {
          "output_type": "stream",
          "name": "stdout",
          "text": [
            "The probability is: 0.047\n"
          ]
        }
      ]
    },
    {
      "cell_type": "code",
      "source": [
        "total_emails = 1000\n",
        "spam_emails = 300\n",
        "not_spam_emails = total_emails - spam_emails\n",
        "lottery_in_spam = 100\n",
        "lottery_in_not_spam = 5\n",
        "\n",
        "p_spam = spam_emails / total_emails\n",
        "p_not_spam = not_spam_emails / total_emails\n",
        "p_lottery_given_spam = lottery_in_spam / spam_emails\n",
        "p_lottery_given_not_spam = lottery_in_not_spam / not_spam_emails\n",
        "\n",
        "p_lottery = ( p_lottery_given_spam * p_spam ) + ( p_lottery_given_not_spam * p_not_spam )\n",
        "p_spam_given_lottery = ( p_lottery_given_spam * p_spam ) / p_lottery\n",
        "print (f\" Probability it ’s spam if it contains ’lottery’: { p_spam_given_lottery :.2f}\")"
      ],
      "metadata": {
        "colab": {
          "base_uri": "https://localhost:8080/"
        },
        "id": "PEeyN5QIV4a0",
        "outputId": "87a08a2e-cda8-47cd-d5d8-d57b583a0a50"
      },
      "execution_count": 18,
      "outputs": [
        {
          "output_type": "stream",
          "name": "stdout",
          "text": [
            " Probability it ’s spam if it contains ’lottery’: 0.95\n"
          ]
        }
      ]
    }
  ]
}