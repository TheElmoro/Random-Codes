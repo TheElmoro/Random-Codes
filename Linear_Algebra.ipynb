{
  "nbformat": 4,
  "nbformat_minor": 0,
  "metadata": {
    "colab": {
      "provenance": [],
      "authorship_tag": "ABX9TyMJ4fa2+azLzJ/sJpKmhhW4",
      "include_colab_link": true
    },
    "kernelspec": {
      "name": "python3",
      "display_name": "Python 3"
    },
    "language_info": {
      "name": "python"
    }
  },
  "cells": [
    {
      "cell_type": "markdown",
      "metadata": {
        "id": "view-in-github",
        "colab_type": "text"
      },
      "source": [
        "<a href=\"https://colab.research.google.com/github/TheElmoro/Random-Codes/blob/main/Linear_Algebra.ipynb\" target=\"_parent\"><img src=\"https://colab.research.google.com/assets/colab-badge.svg\" alt=\"Open In Colab\"/></a>"
      ]
    },
    {
      "cell_type": "code",
      "execution_count": 1,
      "metadata": {
        "colab": {
          "base_uri": "https://localhost:8080/"
        },
        "id": "3lZeu8hxZFis",
        "outputId": "2ef2a8de-aa5b-4333-b442-651f7e32c4c1"
      },
      "outputs": [
        {
          "output_type": "stream",
          "name": "stdout",
          "text": [
            " Original vector : [10, 20, 30]\n",
            " Scaled vector : [0.1, 0.2, 0.3]\n"
          ]
        }
      ],
      "source": [
        "learning_rate = 0.01\n",
        "temperature = 25.5\n",
        "vector = [10 , 20, 30]\n",
        "\n",
        "scaled_vector = [ learning_rate * x for x in vector ]\n",
        "\n",
        "print (\" Original vector :\", vector )\n",
        "print (\" Scaled vector :\", scaled_vector )"
      ]
    },
    {
      "cell_type": "code",
      "source": [
        "import numpy as np\n",
        "\n",
        "scores = np. array ([95 , 88, 72])\n",
        "house_features = np. array ([1500 , 3])\n",
        "\n",
        "print (\" Student scores vector :\", scores )\n",
        "print (\" House features vector :\", house_features )"
      ],
      "metadata": {
        "colab": {
          "base_uri": "https://localhost:8080/"
        },
        "id": "t1KnWnM-ZO4I",
        "outputId": "21d99f62-7ed5-4734-f2b3-aa66fd7114a0"
      },
      "execution_count": 2,
      "outputs": [
        {
          "output_type": "stream",
          "name": "stdout",
          "text": [
            " Student scores vector : [95 88 72]\n",
            " House features vector : [1500    3]\n"
          ]
        }
      ]
    },
    {
      "cell_type": "code",
      "source": [
        "import numpy as np\n",
        "\n",
        "prices = np. array ([2 , 1, 3])\n",
        "quantities = np. array ([5 , 10, 2])\n",
        "\n",
        "total_cost = np.dot(prices , quantities )\n",
        "total_cost_alt = prices @ quantities\n",
        "\n",
        "print (\" Total cost :\", total_cost )\n",
        "print (\" Total cost (alt):\", total_cost_alt )"
      ],
      "metadata": {
        "colab": {
          "base_uri": "https://localhost:8080/"
        },
        "id": "LYi9T8M1ZUqo",
        "outputId": "443f54f9-8d9e-43a7-dd56-afddacfdd8f3"
      },
      "execution_count": 3,
      "outputs": [
        {
          "output_type": "stream",
          "name": "stdout",
          "text": [
            " Total cost : 26\n",
            " Total cost (alt): 26\n"
          ]
        }
      ]
    },
    {
      "cell_type": "code",
      "source": [
        "import numpy as np\n",
        "\n",
        "position = np. array ([3 , 4])\n",
        "distance = np. linalg . norm ( position )\n",
        "\n",
        "print (\" Position vector :\", position )\n",
        "print (\" Direct distance (L2 Norm ):\", distance )\n",
        "\n",
        "manhattan_distance = np. linalg . norm ( position , ord =1)\n",
        "print (\" Manhattan distance (L1 Norm ):\",manhattan_distance )"
      ],
      "metadata": {
        "colab": {
          "base_uri": "https://localhost:8080/"
        },
        "id": "2bFxLib2ZeWg",
        "outputId": "e28ef607-1ed4-4fc5-acdd-9984a1300147"
      },
      "execution_count": 4,
      "outputs": [
        {
          "output_type": "stream",
          "name": "stdout",
          "text": [
            " Position vector : [3 4]\n",
            " Direct distance (L2 Norm ): 5.0\n",
            " Manhattan distance (L1 Norm ): 7.0\n"
          ]
        }
      ]
    },
    {
      "cell_type": "code",
      "source": [
        "import numpy as np\n",
        "\n",
        "image_matrix = np. array ([\n",
        "[0, 128 , 255] ,\n",
        "[50 , 100 , 150] ,\n",
        "[200 , 225 , 0]\n",
        "])\n",
        "\n",
        "print (\" Image Matrix :\\n\", image_matrix )\n",
        "print (\" Shape of matrix :\", image_matrix . shape )"
      ],
      "metadata": {
        "colab": {
          "base_uri": "https://localhost:8080/"
        },
        "id": "O1N9-u5TZp9Z",
        "outputId": "b1fdba9e-09b4-40fb-e7d5-ec80cfc56328"
      },
      "execution_count": 5,
      "outputs": [
        {
          "output_type": "stream",
          "name": "stdout",
          "text": [
            " Image Matrix :\n",
            " [[  0 128 255]\n",
            " [ 50 100 150]\n",
            " [200 225   0]]\n",
            " Shape of matrix : (3, 3)\n"
          ]
        }
      ]
    },
    {
      "cell_type": "code",
      "source": [
        "import numpy as np\n",
        "\n",
        "rotation_matrix = np. array ([\n",
        "[0, -1],\n",
        "[1, 0]\n",
        "])\n",
        "\n",
        "point = np. array ([3 , 1])\n",
        "transformed_point = rotation_matrix @ point\n",
        "\n",
        "print (\" Original point :\", point )\n",
        "print (\" Transformed point :\", transformed_point )"
      ],
      "metadata": {
        "colab": {
          "base_uri": "https://localhost:8080/"
        },
        "id": "LdGYw5FEZwOg",
        "outputId": "7345e0cd-a32c-41a7-ec1b-c6a1ced98346"
      },
      "execution_count": 6,
      "outputs": [
        {
          "output_type": "stream",
          "name": "stdout",
          "text": [
            " Original point : [3 1]\n",
            " Transformed point : [-1  3]\n"
          ]
        }
      ]
    },
    {
      "cell_type": "code",
      "source": [
        "import numpy as np\n",
        "\n",
        "A = np. array ([\n",
        "[2, 0],\n",
        "[0, 1]\n",
        "])\n",
        "eigenvalues , eigenvectors = np. linalg .eig(A)\n",
        "\n",
        "print (\" Eigenvalues :\", eigenvalues )\n",
        "print (\" Eigenvectors ( columns ):\\n\", eigenvectors )"
      ],
      "metadata": {
        "colab": {
          "base_uri": "https://localhost:8080/"
        },
        "id": "AZUx6z72Z2LA",
        "outputId": "895f03d2-053d-4d72-aaec-46974f7ef813"
      },
      "execution_count": 7,
      "outputs": [
        {
          "output_type": "stream",
          "name": "stdout",
          "text": [
            " Eigenvalues : [2. 1.]\n",
            " Eigenvectors ( columns ):\n",
            " [[1. 0.]\n",
            " [0. 1.]]\n"
          ]
        }
      ]
    }
  ]
}