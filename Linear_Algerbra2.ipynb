{
  "nbformat": 4,
  "nbformat_minor": 0,
  "metadata": {
    "colab": {
      "provenance": [],
      "authorship_tag": "ABX9TyPGWnygDEIHWHnr/oCFYYGO",
      "include_colab_link": true
    },
    "kernelspec": {
      "name": "python3",
      "display_name": "Python 3"
    },
    "language_info": {
      "name": "python"
    }
  },
  "cells": [
    {
      "cell_type": "markdown",
      "metadata": {
        "id": "view-in-github",
        "colab_type": "text"
      },
      "source": [
        "<a href=\"https://colab.research.google.com/github/TheElmoro/Random-Codes/blob/main/Linear_Algerbra2.ipynb\" target=\"_parent\"><img src=\"https://colab.research.google.com/assets/colab-badge.svg\" alt=\"Open In Colab\"/></a>"
      ]
    },
    {
      "cell_type": "code",
      "execution_count": 1,
      "metadata": {
        "colab": {
          "base_uri": "https://localhost:8080/"
        },
        "id": "MyNtZTEkaJp8",
        "outputId": "7bc1b673-ce9f-4e1a-f8f0-6cef976fa091"
      },
      "outputs": [
        {
          "output_type": "stream",
          "name": "stdout",
          "text": [
            "0.01\n"
          ]
        }
      ],
      "source": [
        "learning_rate = 0.01\n",
        "temperature = 25.5\n",
        "print(learning_rate)"
      ]
    },
    {
      "cell_type": "code",
      "source": [
        "vector = [10, 20, 30]\n",
        "print(vector)"
      ],
      "metadata": {
        "colab": {
          "base_uri": "https://localhost:8080/"
        },
        "id": "Sszc2OsSatpH",
        "outputId": "db1fa7b7-72fc-4a81-a64f-36b557151694"
      },
      "execution_count": 2,
      "outputs": [
        {
          "output_type": "stream",
          "name": "stdout",
          "text": [
            "[10, 20, 30]\n"
          ]
        }
      ]
    },
    {
      "cell_type": "code",
      "source": [
        "x = 2\n",
        "scaled_vector = [x * i for i in vector]\n",
        "print(scaled_vector)"
      ],
      "metadata": {
        "colab": {
          "base_uri": "https://localhost:8080/"
        },
        "id": "Ah3NFNnNatef",
        "outputId": "c6b4acaf-ced0-4581-de6e-bb691e7bffcf"
      },
      "execution_count": 3,
      "outputs": [
        {
          "output_type": "stream",
          "name": "stdout",
          "text": [
            "[20, 40, 60]\n"
          ]
        }
      ]
    },
    {
      "cell_type": "code",
      "source": [
        "import numpy as np\n",
        "scores = np.array([95, 88, 72])"
      ],
      "metadata": {
        "id": "WbyH7Rfsatb4"
      },
      "execution_count": 4,
      "outputs": []
    },
    {
      "cell_type": "code",
      "source": [
        "print(scores)"
      ],
      "metadata": {
        "colab": {
          "base_uri": "https://localhost:8080/"
        },
        "id": "o9ySLQfTatZO",
        "outputId": "32dc08a5-137e-410d-9eb2-2e988f1f125e"
      },
      "execution_count": 5,
      "outputs": [
        {
          "output_type": "stream",
          "name": "stdout",
          "text": [
            "[95 88 72]\n"
          ]
        }
      ]
    },
    {
      "cell_type": "code",
      "source": [
        "print(vector*scores)"
      ],
      "metadata": {
        "colab": {
          "base_uri": "https://localhost:8080/"
        },
        "id": "TvVKy4KQatWf",
        "outputId": "fe403dc4-3102-4355-c9ef-1e8cfdb564b0"
      },
      "execution_count": 6,
      "outputs": [
        {
          "output_type": "stream",
          "name": "stdout",
          "text": [
            "[ 950 1760 2160]\n"
          ]
        }
      ]
    },
    {
      "cell_type": "code",
      "source": [
        "print(np.dot(vector, scores))"
      ],
      "metadata": {
        "colab": {
          "base_uri": "https://localhost:8080/"
        },
        "id": "_9_LybXhatT3",
        "outputId": "8d5a4982-2ce4-45b9-a312-5a9c98ded96d"
      },
      "execution_count": 7,
      "outputs": [
        {
          "output_type": "stream",
          "name": "stdout",
          "text": [
            "4870\n"
          ]
        }
      ]
    },
    {
      "cell_type": "code",
      "source": [
        "print(vector @ scores)"
      ],
      "metadata": {
        "colab": {
          "base_uri": "https://localhost:8080/"
        },
        "id": "MwStnmWMatNm",
        "outputId": "1795300f-a2e5-4afc-d717-6f34dafaf224"
      },
      "execution_count": 8,
      "outputs": [
        {
          "output_type": "stream",
          "name": "stdout",
          "text": [
            "4870\n"
          ]
        }
      ]
    },
    {
      "cell_type": "code",
      "source": [
        "np.linalg.norm(vector)"
      ],
      "metadata": {
        "colab": {
          "base_uri": "https://localhost:8080/"
        },
        "id": "hwcYQFRSatHf",
        "outputId": "400b8279-be60-4970-a1b8-5c9286d59ae1"
      },
      "execution_count": 9,
      "outputs": [
        {
          "output_type": "execute_result",
          "data": {
            "text/plain": [
              "np.float64(37.416573867739416)"
            ]
          },
          "metadata": {},
          "execution_count": 9
        }
      ]
    },
    {
      "cell_type": "code",
      "source": [
        "np.linalg.norm(vector, ord=1)"
      ],
      "metadata": {
        "colab": {
          "base_uri": "https://localhost:8080/"
        },
        "id": "rYi-E_8UbRfw",
        "outputId": "217442c2-7350-49bb-8bc1-8f3feda4e942"
      },
      "execution_count": 10,
      "outputs": [
        {
          "output_type": "execute_result",
          "data": {
            "text/plain": [
              "np.float64(60.0)"
            ]
          },
          "metadata": {},
          "execution_count": 10
        }
      ]
    },
    {
      "cell_type": "code",
      "source": [
        "r_matrix = np.array([[0,-1],[1,0]])"
      ],
      "metadata": {
        "id": "upcLGzAZas8Q"
      },
      "execution_count": 11,
      "outputs": []
    },
    {
      "cell_type": "code",
      "source": [
        "point = np.array([3,1])\n",
        "transformed_point= r_matrix @ point\n",
        "print(transformed_point)"
      ],
      "metadata": {
        "colab": {
          "base_uri": "https://localhost:8080/"
        },
        "id": "Hdv9Kq9sbEqf",
        "outputId": "a348a3fc-6ee4-4729-864f-539f65489c2e"
      },
      "execution_count": 12,
      "outputs": [
        {
          "output_type": "stream",
          "name": "stdout",
          "text": [
            "[-1  3]\n"
          ]
        }
      ]
    },
    {
      "cell_type": "code",
      "source": [
        "A = np.array([[2,0],[0,1]])\n",
        "e_val, e_vec = np.linalg.eig(A)\n",
        "print(\"Eigenvalues:\", e_val)\n",
        "print(\"Eigenvectors\", e_vec)"
      ],
      "metadata": {
        "colab": {
          "base_uri": "https://localhost:8080/"
        },
        "id": "j29ZwK7VbEgv",
        "outputId": "84d0f6a9-c39d-46aa-d3b6-1c1f0e7ed6da"
      },
      "execution_count": 13,
      "outputs": [
        {
          "output_type": "stream",
          "name": "stdout",
          "text": [
            "Eigenvalues: [2. 1.]\n",
            "Eigenvectors [[1. 0.]\n",
            " [0. 1.]]\n"
          ]
        }
      ]
    },
    {
      "cell_type": "code",
      "source": [
        "A_1 = np.array([[4,2,3],[3,5,5],[1,3,5]])\n",
        "e_val_1, e_vec_1 = np.linalg.eig(A_1)\n",
        "print(\"Eigenvalues:\", e_val_1)\n",
        "print(\"Eigenvectors\", e_vec_1)"
      ],
      "metadata": {
        "colab": {
          "base_uri": "https://localhost:8080/"
        },
        "id": "x4lHMuMxbEVH",
        "outputId": "9714760b-bd76-4fd8-fdd6-a94a35d11f13"
      },
      "execution_count": 14,
      "outputs": [
        {
          "output_type": "stream",
          "name": "stdout",
          "text": [
            "Eigenvalues: [10.33127472  2.35156186  1.31716342]\n",
            "Eigenvectors [[-0.46694639 -0.75193817 -0.17562641]\n",
            " [-0.73034067 -0.2773299  -0.73937996]\n",
            " [-0.49856151  0.59806112  0.64997896]]\n"
          ]
        }
      ]
    }
  ]
}