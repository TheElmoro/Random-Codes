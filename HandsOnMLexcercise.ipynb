{
  "nbformat": 4,
  "nbformat_minor": 0,
  "metadata": {
    "colab": {
      "provenance": [],
      "authorship_tag": "ABX9TyPw7lMarPK1zRpzDQb6BbSR",
      "include_colab_link": true
    },
    "kernelspec": {
      "name": "python3",
      "display_name": "Python 3"
    },
    "language_info": {
      "name": "python"
    }
  },
  "cells": [
    {
      "cell_type": "markdown",
      "metadata": {
        "id": "view-in-github",
        "colab_type": "text"
      },
      "source": [
        "<a href=\"https://colab.research.google.com/github/TheElmoro/Random-Codes/blob/main/HandsOnMLexcercise.ipynb\" target=\"_parent\"><img src=\"https://colab.research.google.com/assets/colab-badge.svg\" alt=\"Open In Colab\"/></a>"
      ]
    },
    {
      "cell_type": "markdown",
      "source": [
        "#Creating Arrays (Page 4)"
      ],
      "metadata": {
        "id": "audabVZgTxCv"
      }
    },
    {
      "cell_type": "code",
      "source": [
        "from google.colab import drive\n",
        "drive.mount('/content/drive')"
      ],
      "metadata": {
        "colab": {
          "base_uri": "https://localhost:8080/"
        },
        "id": "60nI9stMjbkG",
        "outputId": "b215a995-918f-4fac-e534-8419bec011dc"
      },
      "execution_count": null,
      "outputs": [
        {
          "output_type": "stream",
          "name": "stdout",
          "text": [
            "Drive already mounted at /content/drive; to attempt to forcibly remount, call drive.mount(\"/content/drive\", force_remount=True).\n"
          ]
        }
      ]
    },
    {
      "cell_type": "code",
      "execution_count": null,
      "metadata": {
        "colab": {
          "base_uri": "https://localhost:8080/"
        },
        "id": "6qiK1R15Saze",
        "outputId": "2c0a0443-58bf-497c-e786-7bbbde232533"
      },
      "outputs": [
        {
          "output_type": "stream",
          "name": "stdout",
          "text": [
            "vector: [1 2 3] shape: (3,)\n",
            "matrix:\n",
            " [[1 2 3]\n",
            " [4 5 6]] shape: (2, 3)\n"
          ]
        }
      ],
      "source": [
        "import numpy as np\n",
        "#1D array (vector)\n",
        "v = np.array([1, 2, 3])\n",
        "\n",
        "M = np.array([[1,2,3,],\n",
        "             [4, 5, 6]])\n",
        "\n",
        "print(\"vector:\", v, \"shape:\", v.shape)\n",
        "print(\"matrix:\\n\", M, \"shape:\", M.shape)"
      ]
    },
    {
      "cell_type": "markdown",
      "source": [
        "#Axes Explained - (Page 5)"
      ],
      "metadata": {
        "id": "GK-aS0x6T3sG"
      }
    },
    {
      "cell_type": "code",
      "source": [
        "M = np.array([[1,2,3,],\n",
        "             [4, 5, 6]])\n",
        "\n",
        "print(M.sum(axis=0))\n",
        "print(M.sum(axis=1))"
      ],
      "metadata": {
        "colab": {
          "base_uri": "https://localhost:8080/"
        },
        "id": "TE1CPYieUAue",
        "outputId": "07fbb029-b04c-41b6-c73c-d79cc71f0332"
      },
      "execution_count": null,
      "outputs": [
        {
          "output_type": "stream",
          "name": "stdout",
          "text": [
            "[5 7 9]\n",
            "[ 6 15]\n"
          ]
        }
      ]
    },
    {
      "cell_type": "code",
      "source": [
        "X = np.array([[1, 2, 3], [4, 5, 6]])\n",
        "\n",
        "v = np.array([1, 0,-1])\n",
        "\n",
        "print(X + v)"
      ],
      "metadata": {
        "colab": {
          "base_uri": "https://localhost:8080/"
        },
        "id": "5eh3hTZ2Um4u",
        "outputId": "ddb7657d-f54f-498e-e7ae-f05e22094113"
      },
      "execution_count": null,
      "outputs": [
        {
          "output_type": "stream",
          "name": "stdout",
          "text": [
            "[[2 2 2]\n",
            " [5 5 5]]\n"
          ]
        }
      ]
    },
    {
      "cell_type": "code",
      "source": [
        "a = np. arange (6)\n",
        "b = a. reshape (2, 3)\n",
        "print (b)"
      ],
      "metadata": {
        "colab": {
          "base_uri": "https://localhost:8080/"
        },
        "id": "vqWC4DDJVRzu",
        "outputId": "d6f8eef8-96be-4b5f-ce58-e1b82d894868"
      },
      "execution_count": null,
      "outputs": [
        {
          "output_type": "stream",
          "name": "stdout",
          "text": [
            "[[0 1 2]\n",
            " [3 4 5]]\n"
          ]
        }
      ]
    },
    {
      "cell_type": "code",
      "source": [
        "a = np. array ([2 , 3, 4])\n",
        "b = np. array ([5 , 6, 7])\n",
        "print (a @ b)"
      ],
      "metadata": {
        "colab": {
          "base_uri": "https://localhost:8080/"
        },
        "id": "bGpSNTutVoKm",
        "outputId": "1b0d35b1-1acf-43b7-8a49-0d1ab4ae309a"
      },
      "execution_count": null,
      "outputs": [
        {
          "output_type": "stream",
          "name": "stdout",
          "text": [
            "56\n"
          ]
        }
      ]
    },
    {
      "cell_type": "markdown",
      "source": [
        "#Broadcasting"
      ],
      "metadata": {
        "id": "7DradzirV_v2"
      }
    },
    {
      "cell_type": "code",
      "source": [
        "import numpy as np\n",
        "X = np. array ([[1 , 2, 3],\n",
        "[4, 5, 6]] , dtype = float )\n",
        "mu = X. mean ( axis =0)\n",
        "X_centered = X - mu\n",
        "print (mu)\n",
        "print ( X_centered )"
      ],
      "metadata": {
        "colab": {
          "base_uri": "https://localhost:8080/"
        },
        "id": "FPYw3kbPWDDG",
        "outputId": "cadf6fc1-8230-4e72-d0cf-7752ada5453b"
      },
      "execution_count": null,
      "outputs": [
        {
          "output_type": "stream",
          "name": "stdout",
          "text": [
            "[2.5 3.5 4.5]\n",
            "[[-1.5 -1.5 -1.5]\n",
            " [ 1.5  1.5  1.5]]\n"
          ]
        }
      ]
    },
    {
      "cell_type": "markdown",
      "source": [
        "#Mini dataset"
      ],
      "metadata": {
        "id": "Z2nrAXk3W3ZP"
      }
    },
    {
      "cell_type": "code",
      "source": [
        "import pandas as pd\n",
        "from io import StringIO\n",
        "csv = StringIO (\"\"\" size, bedrooms, price\n",
        "650 ,1 ,120000\n",
        "800 ,2 ,155000\n",
        "900 ,2 ,180000\n",
        "1200 ,3 ,240000\n",
        "1500 ,3 ,310000\n",
        "1800 ,4 ,360000\n",
        "\"\"\")\n",
        "df = pd.read_csv(csv)\n",
        "df.head()"
      ],
      "metadata": {
        "colab": {
          "base_uri": "https://localhost:8080/",
          "height": 206
        },
        "id": "T0q5UKLFW7Rf",
        "outputId": "ecfc2679-d46e-4d59-cf0d-9db0195a6cae"
      },
      "execution_count": null,
      "outputs": [
        {
          "output_type": "execute_result",
          "data": {
            "text/plain": [
              "   size  bedrooms   price\n",
              "0   650         1  120000\n",
              "1   800         2  155000\n",
              "2   900         2  180000\n",
              "3  1200         3  240000\n",
              "4  1500         3  310000"
            ],
            "text/html": [
              "\n",
              "  <div id=\"df-a63f9299-5841-4acf-9015-d6f730789401\" class=\"colab-df-container\">\n",
              "    <div>\n",
              "<style scoped>\n",
              "    .dataframe tbody tr th:only-of-type {\n",
              "        vertical-align: middle;\n",
              "    }\n",
              "\n",
              "    .dataframe tbody tr th {\n",
              "        vertical-align: top;\n",
              "    }\n",
              "\n",
              "    .dataframe thead th {\n",
              "        text-align: right;\n",
              "    }\n",
              "</style>\n",
              "<table border=\"1\" class=\"dataframe\">\n",
              "  <thead>\n",
              "    <tr style=\"text-align: right;\">\n",
              "      <th></th>\n",
              "      <th>size</th>\n",
              "      <th>bedrooms</th>\n",
              "      <th>price</th>\n",
              "    </tr>\n",
              "  </thead>\n",
              "  <tbody>\n",
              "    <tr>\n",
              "      <th>0</th>\n",
              "      <td>650</td>\n",
              "      <td>1</td>\n",
              "      <td>120000</td>\n",
              "    </tr>\n",
              "    <tr>\n",
              "      <th>1</th>\n",
              "      <td>800</td>\n",
              "      <td>2</td>\n",
              "      <td>155000</td>\n",
              "    </tr>\n",
              "    <tr>\n",
              "      <th>2</th>\n",
              "      <td>900</td>\n",
              "      <td>2</td>\n",
              "      <td>180000</td>\n",
              "    </tr>\n",
              "    <tr>\n",
              "      <th>3</th>\n",
              "      <td>1200</td>\n",
              "      <td>3</td>\n",
              "      <td>240000</td>\n",
              "    </tr>\n",
              "    <tr>\n",
              "      <th>4</th>\n",
              "      <td>1500</td>\n",
              "      <td>3</td>\n",
              "      <td>310000</td>\n",
              "    </tr>\n",
              "  </tbody>\n",
              "</table>\n",
              "</div>\n",
              "    <div class=\"colab-df-buttons\">\n",
              "\n",
              "  <div class=\"colab-df-container\">\n",
              "    <button class=\"colab-df-convert\" onclick=\"convertToInteractive('df-a63f9299-5841-4acf-9015-d6f730789401')\"\n",
              "            title=\"Convert this dataframe to an interactive table.\"\n",
              "            style=\"display:none;\">\n",
              "\n",
              "  <svg xmlns=\"http://www.w3.org/2000/svg\" height=\"24px\" viewBox=\"0 -960 960 960\">\n",
              "    <path d=\"M120-120v-720h720v720H120Zm60-500h600v-160H180v160Zm220 220h160v-160H400v160Zm0 220h160v-160H400v160ZM180-400h160v-160H180v160Zm440 0h160v-160H620v160ZM180-180h160v-160H180v160Zm440 0h160v-160H620v160Z\"/>\n",
              "  </svg>\n",
              "    </button>\n",
              "\n",
              "  <style>\n",
              "    .colab-df-container {\n",
              "      display:flex;\n",
              "      gap: 12px;\n",
              "    }\n",
              "\n",
              "    .colab-df-convert {\n",
              "      background-color: #E8F0FE;\n",
              "      border: none;\n",
              "      border-radius: 50%;\n",
              "      cursor: pointer;\n",
              "      display: none;\n",
              "      fill: #1967D2;\n",
              "      height: 32px;\n",
              "      padding: 0 0 0 0;\n",
              "      width: 32px;\n",
              "    }\n",
              "\n",
              "    .colab-df-convert:hover {\n",
              "      background-color: #E2EBFA;\n",
              "      box-shadow: 0px 1px 2px rgba(60, 64, 67, 0.3), 0px 1px 3px 1px rgba(60, 64, 67, 0.15);\n",
              "      fill: #174EA6;\n",
              "    }\n",
              "\n",
              "    .colab-df-buttons div {\n",
              "      margin-bottom: 4px;\n",
              "    }\n",
              "\n",
              "    [theme=dark] .colab-df-convert {\n",
              "      background-color: #3B4455;\n",
              "      fill: #D2E3FC;\n",
              "    }\n",
              "\n",
              "    [theme=dark] .colab-df-convert:hover {\n",
              "      background-color: #434B5C;\n",
              "      box-shadow: 0px 1px 3px 1px rgba(0, 0, 0, 0.15);\n",
              "      filter: drop-shadow(0px 1px 2px rgba(0, 0, 0, 0.3));\n",
              "      fill: #FFFFFF;\n",
              "    }\n",
              "  </style>\n",
              "\n",
              "    <script>\n",
              "      const buttonEl =\n",
              "        document.querySelector('#df-a63f9299-5841-4acf-9015-d6f730789401 button.colab-df-convert');\n",
              "      buttonEl.style.display =\n",
              "        google.colab.kernel.accessAllowed ? 'block' : 'none';\n",
              "\n",
              "      async function convertToInteractive(key) {\n",
              "        const element = document.querySelector('#df-a63f9299-5841-4acf-9015-d6f730789401');\n",
              "        const dataTable =\n",
              "          await google.colab.kernel.invokeFunction('convertToInteractive',\n",
              "                                                    [key], {});\n",
              "        if (!dataTable) return;\n",
              "\n",
              "        const docLinkHtml = 'Like what you see? Visit the ' +\n",
              "          '<a target=\"_blank\" href=https://colab.research.google.com/notebooks/data_table.ipynb>data table notebook</a>'\n",
              "          + ' to learn more about interactive tables.';\n",
              "        element.innerHTML = '';\n",
              "        dataTable['output_type'] = 'display_data';\n",
              "        await google.colab.output.renderOutput(dataTable, element);\n",
              "        const docLink = document.createElement('div');\n",
              "        docLink.innerHTML = docLinkHtml;\n",
              "        element.appendChild(docLink);\n",
              "      }\n",
              "    </script>\n",
              "  </div>\n",
              "\n",
              "\n",
              "    <div id=\"df-e978bb9c-0f04-4772-a4a9-76c66dfe379a\">\n",
              "      <button class=\"colab-df-quickchart\" onclick=\"quickchart('df-e978bb9c-0f04-4772-a4a9-76c66dfe379a')\"\n",
              "                title=\"Suggest charts\"\n",
              "                style=\"display:none;\">\n",
              "\n",
              "<svg xmlns=\"http://www.w3.org/2000/svg\" height=\"24px\"viewBox=\"0 0 24 24\"\n",
              "     width=\"24px\">\n",
              "    <g>\n",
              "        <path d=\"M19 3H5c-1.1 0-2 .9-2 2v14c0 1.1.9 2 2 2h14c1.1 0 2-.9 2-2V5c0-1.1-.9-2-2-2zM9 17H7v-7h2v7zm4 0h-2V7h2v10zm4 0h-2v-4h2v4z\"/>\n",
              "    </g>\n",
              "</svg>\n",
              "      </button>\n",
              "\n",
              "<style>\n",
              "  .colab-df-quickchart {\n",
              "      --bg-color: #E8F0FE;\n",
              "      --fill-color: #1967D2;\n",
              "      --hover-bg-color: #E2EBFA;\n",
              "      --hover-fill-color: #174EA6;\n",
              "      --disabled-fill-color: #AAA;\n",
              "      --disabled-bg-color: #DDD;\n",
              "  }\n",
              "\n",
              "  [theme=dark] .colab-df-quickchart {\n",
              "      --bg-color: #3B4455;\n",
              "      --fill-color: #D2E3FC;\n",
              "      --hover-bg-color: #434B5C;\n",
              "      --hover-fill-color: #FFFFFF;\n",
              "      --disabled-bg-color: #3B4455;\n",
              "      --disabled-fill-color: #666;\n",
              "  }\n",
              "\n",
              "  .colab-df-quickchart {\n",
              "    background-color: var(--bg-color);\n",
              "    border: none;\n",
              "    border-radius: 50%;\n",
              "    cursor: pointer;\n",
              "    display: none;\n",
              "    fill: var(--fill-color);\n",
              "    height: 32px;\n",
              "    padding: 0;\n",
              "    width: 32px;\n",
              "  }\n",
              "\n",
              "  .colab-df-quickchart:hover {\n",
              "    background-color: var(--hover-bg-color);\n",
              "    box-shadow: 0 1px 2px rgba(60, 64, 67, 0.3), 0 1px 3px 1px rgba(60, 64, 67, 0.15);\n",
              "    fill: var(--button-hover-fill-color);\n",
              "  }\n",
              "\n",
              "  .colab-df-quickchart-complete:disabled,\n",
              "  .colab-df-quickchart-complete:disabled:hover {\n",
              "    background-color: var(--disabled-bg-color);\n",
              "    fill: var(--disabled-fill-color);\n",
              "    box-shadow: none;\n",
              "  }\n",
              "\n",
              "  .colab-df-spinner {\n",
              "    border: 2px solid var(--fill-color);\n",
              "    border-color: transparent;\n",
              "    border-bottom-color: var(--fill-color);\n",
              "    animation:\n",
              "      spin 1s steps(1) infinite;\n",
              "  }\n",
              "\n",
              "  @keyframes spin {\n",
              "    0% {\n",
              "      border-color: transparent;\n",
              "      border-bottom-color: var(--fill-color);\n",
              "      border-left-color: var(--fill-color);\n",
              "    }\n",
              "    20% {\n",
              "      border-color: transparent;\n",
              "      border-left-color: var(--fill-color);\n",
              "      border-top-color: var(--fill-color);\n",
              "    }\n",
              "    30% {\n",
              "      border-color: transparent;\n",
              "      border-left-color: var(--fill-color);\n",
              "      border-top-color: var(--fill-color);\n",
              "      border-right-color: var(--fill-color);\n",
              "    }\n",
              "    40% {\n",
              "      border-color: transparent;\n",
              "      border-right-color: var(--fill-color);\n",
              "      border-top-color: var(--fill-color);\n",
              "    }\n",
              "    60% {\n",
              "      border-color: transparent;\n",
              "      border-right-color: var(--fill-color);\n",
              "    }\n",
              "    80% {\n",
              "      border-color: transparent;\n",
              "      border-right-color: var(--fill-color);\n",
              "      border-bottom-color: var(--fill-color);\n",
              "    }\n",
              "    90% {\n",
              "      border-color: transparent;\n",
              "      border-bottom-color: var(--fill-color);\n",
              "    }\n",
              "  }\n",
              "</style>\n",
              "\n",
              "      <script>\n",
              "        async function quickchart(key) {\n",
              "          const quickchartButtonEl =\n",
              "            document.querySelector('#' + key + ' button');\n",
              "          quickchartButtonEl.disabled = true;  // To prevent multiple clicks.\n",
              "          quickchartButtonEl.classList.add('colab-df-spinner');\n",
              "          try {\n",
              "            const charts = await google.colab.kernel.invokeFunction(\n",
              "                'suggestCharts', [key], {});\n",
              "          } catch (error) {\n",
              "            console.error('Error during call to suggestCharts:', error);\n",
              "          }\n",
              "          quickchartButtonEl.classList.remove('colab-df-spinner');\n",
              "          quickchartButtonEl.classList.add('colab-df-quickchart-complete');\n",
              "        }\n",
              "        (() => {\n",
              "          let quickchartButtonEl =\n",
              "            document.querySelector('#df-e978bb9c-0f04-4772-a4a9-76c66dfe379a button');\n",
              "          quickchartButtonEl.style.display =\n",
              "            google.colab.kernel.accessAllowed ? 'block' : 'none';\n",
              "        })();\n",
              "      </script>\n",
              "    </div>\n",
              "\n",
              "    </div>\n",
              "  </div>\n"
            ],
            "application/vnd.google.colaboratory.intrinsic+json": {
              "type": "dataframe",
              "variable_name": "df",
              "summary": "{\n  \"name\": \"df\",\n  \"rows\": 6,\n  \"fields\": [\n    {\n      \"column\": \" size\",\n      \"properties\": {\n        \"dtype\": \"number\",\n        \"std\": 443,\n        \"min\": 650,\n        \"max\": 1800,\n        \"num_unique_values\": 6,\n        \"samples\": [\n          650,\n          800,\n          1800\n        ],\n        \"semantic_type\": \"\",\n        \"description\": \"\"\n      }\n    },\n    {\n      \"column\": \" bedrooms\",\n      \"properties\": {\n        \"dtype\": \"number\",\n        \"std\": 1,\n        \"min\": 1,\n        \"max\": 4,\n        \"num_unique_values\": 4,\n        \"samples\": [\n          2,\n          4,\n          1\n        ],\n        \"semantic_type\": \"\",\n        \"description\": \"\"\n      }\n    },\n    {\n      \"column\": \" price\",\n      \"properties\": {\n        \"dtype\": \"number\",\n        \"std\": 93367,\n        \"min\": 120000,\n        \"max\": 360000,\n        \"num_unique_values\": 6,\n        \"samples\": [\n          120000,\n          155000,\n          360000\n        ],\n        \"semantic_type\": \"\",\n        \"description\": \"\"\n      }\n    }\n  ]\n}"
            }
          },
          "metadata": {},
          "execution_count": 130
        }
      ]
    },
    {
      "cell_type": "markdown",
      "source": [
        "#Loading and Inspecting Data"
      ],
      "metadata": {
        "id": "X1m-K7yDaw2O"
      }
    },
    {
      "cell_type": "code",
      "source": [
        "import pandas as pd\n",
        "# Assuming you have saved the google sheet as a csv file in the same folder\n",
        "df = pd.read_csv(\"/content/drive/MyDrive/Colab Notebooks/housing.csv\")\n",
        "print(df.head())\n",
        "print(df.describe())\n",
        "print(df.info())\n",
        "print(df.isna().sum())"
      ],
      "metadata": {
        "colab": {
          "base_uri": "https://localhost:8080/"
        },
        "collapsed": true,
        "id": "2BPmnxRYayEx",
        "outputId": "f679b198-f68c-4d28-8e9f-86c6a85efe17"
      },
      "execution_count": null,
      "outputs": [
        {
          "output_type": "stream",
          "name": "stdout",
          "text": [
            "   size  bedroom   price\n",
            "0   650        1  120000\n",
            "1   800        2  155000\n",
            "2   900        2  180000\n",
            "3  1200        3  240000\n",
            "4  1500        3  310000\n",
            "              size   bedroom          price\n",
            "count     6.000000  6.000000       6.000000\n",
            "mean   1141.666667  2.500000  227500.000000\n",
            "std     443.189200  1.048809   93367.553251\n",
            "min     650.000000  1.000000  120000.000000\n",
            "25%     825.000000  2.000000  161250.000000\n",
            "50%    1050.000000  2.500000  210000.000000\n",
            "75%    1425.000000  3.000000  292500.000000\n",
            "max    1800.000000  4.000000  360000.000000\n",
            "<class 'pandas.core.frame.DataFrame'>\n",
            "RangeIndex: 6 entries, 0 to 5\n",
            "Data columns (total 3 columns):\n",
            " #   Column   Non-Null Count  Dtype\n",
            "---  ------   --------------  -----\n",
            " 0   size     6 non-null      int64\n",
            " 1   bedroom  6 non-null      int64\n",
            " 2   price    6 non-null      int64\n",
            "dtypes: int64(3)\n",
            "memory usage: 276.0 bytes\n",
            "None\n",
            "size       0\n",
            "bedroom    0\n",
            "price      0\n",
            "dtype: int64\n"
          ]
        }
      ]
    },
    {
      "cell_type": "code",
      "source": [
        "total_rooms = df[\"size\"]\n",
        "subset = df[[\"size\",\"price\"]]\n",
        "\n",
        "print(\"First row of the dataframe:\")\n",
        "print(df.iloc[0])\n",
        "print(\"\\nFirst row using .loc:\")\n",
        "print(df.loc[0])"
      ],
      "metadata": {
        "colab": {
          "base_uri": "https://localhost:8080/"
        },
        "collapsed": true,
        "id": "Krcr7Shmbg6B",
        "outputId": "1ae2ed89-ab56-4ae6-b371-ee2957fbe1aa"
      },
      "execution_count": null,
      "outputs": [
        {
          "output_type": "stream",
          "name": "stdout",
          "text": [
            "First row of the dataframe:\n",
            "size          650\n",
            "bedroom         1\n",
            "price      120000\n",
            "Name: 0, dtype: int64\n",
            "\n",
            "First row using .loc:\n",
            "size          650\n",
            "bedroom         1\n",
            "price      120000\n",
            "Name: 0, dtype: int64\n"
          ]
        }
      ]
    },
    {
      "cell_type": "code",
      "source": [
        "print(df.corr())"
      ],
      "metadata": {
        "colab": {
          "base_uri": "https://localhost:8080/"
        },
        "collapsed": true,
        "id": "cNy7dLUycMba",
        "outputId": "627b7790-99ee-44b5-dfd6-190d05f709ef"
      },
      "execution_count": null,
      "outputs": [
        {
          "output_type": "stream",
          "name": "stdout",
          "text": [
            "             size   bedroom     price\n",
            "size     1.000000  0.957358  0.998683\n",
            "bedroom  0.957358  1.000000  0.954815\n",
            "price    0.998683  0.954815  1.000000\n"
          ]
        }
      ]
    },
    {
      "cell_type": "code",
      "source": [
        "print(df.describe())\n",
        "print(df.isna().sum())\n",
        "print(df.corr( numeric_only = True))"
      ],
      "metadata": {
        "colab": {
          "base_uri": "https://localhost:8080/"
        },
        "collapsed": true,
        "id": "EDxmajvMcM2P",
        "outputId": "75e0ca70-e862-4429-a855-e336e375ee05"
      },
      "execution_count": null,
      "outputs": [
        {
          "output_type": "stream",
          "name": "stdout",
          "text": [
            "              size   bedroom          price\n",
            "count     6.000000  6.000000       6.000000\n",
            "mean   1141.666667  2.500000  227500.000000\n",
            "std     443.189200  1.048809   93367.553251\n",
            "min     650.000000  1.000000  120000.000000\n",
            "25%     825.000000  2.000000  161250.000000\n",
            "50%    1050.000000  2.500000  210000.000000\n",
            "75%    1425.000000  3.000000  292500.000000\n",
            "max    1800.000000  4.000000  360000.000000\n",
            "size       0\n",
            "bedroom    0\n",
            "price      0\n",
            "dtype: int64\n",
            "             size   bedroom     price\n",
            "size     1.000000  0.957358  0.998683\n",
            "bedroom  0.957358  1.000000  0.954815\n",
            "price    0.998683  0.954815  1.000000\n"
          ]
        }
      ]
    },
    {
      "cell_type": "markdown",
      "source": [
        "#Scatter Plot Example"
      ],
      "metadata": {
        "id": "NsKm0N4bdkYD"
      }
    },
    {
      "cell_type": "code",
      "source": [
        "import matplotlib.pyplot as plt\n",
        "plt.scatter(df[\"size\"], df[\"price\"])\n",
        "plt.xlabel(\"Size(sq ft)\")\n",
        "plt.ylabel(\"Price($)\")\n",
        "plt.title(\"Size vs Price\")\n",
        "plt.show()"
      ],
      "metadata": {
        "colab": {
          "base_uri": "https://localhost:8080/",
          "height": 472
        },
        "id": "pcc25Hg6c4h6",
        "outputId": "82200d4b-58af-4951-f329-14bf710f0806"
      },
      "execution_count": null,
      "outputs": [
        {
          "output_type": "display_data",
          "data": {
            "text/plain": [
              "<Figure size 640x480 with 1 Axes>"
            ],
            "image/png": "[encoded data removed]"
          },
          "metadata": {}
        }
      ]
    },
    {
      "cell_type": "markdown",
      "source": [
        "#Build the Design Matrix"
      ],
      "metadata": {
        "id": "JqCWxpY3dy4E"
      }
    },
    {
      "cell_type": "code",
      "source": [
        "import numpy as np\n",
        "x = df[\"size\"].to_numpy().reshape(-1, 1)\n",
        "y = df[\"price\"].to_numpy().reshape(-1, 1)\n",
        "\n",
        "X = np.hstack([np.ones((x.shape[0], 1)), x])\n",
        "print(X[:3], y[:3], sep=\"\\n\")"
      ],
      "metadata": {
        "colab": {
          "base_uri": "https://localhost:8080/"
        },
        "id": "rzrX2wQEd0KK",
        "outputId": "15d3acfd-6342-4350-b567-f17ab010d79f"
      },
      "execution_count": null,
      "outputs": [
        {
          "output_type": "stream",
          "name": "stdout",
          "text": [
            "[[  1. 650.]\n",
            " [  1. 800.]\n",
            " [  1. 900.]]\n",
            "[[120000]\n",
            " [155000]\n",
            " [180000]]\n"
          ]
        }
      ]
    },
    {
      "cell_type": "markdown",
      "source": [
        "#Fit via Normal Equation"
      ],
      "metadata": {
        "id": "GtAU74kXfLVj"
      }
    },
    {
      "cell_type": "code",
      "source": [
        "XtX = X.T @ X\n",
        "Xty = X.T @ y\n",
        "w = np.linalg.inv(XtX) @ Xty\n",
        "w0, w1 = float(w[0]), float(w[1])\n",
        "print(f\"Intercept={w0:.2f}, Slope ={w1:.2f}\")"
      ],
      "metadata": {
        "colab": {
          "base_uri": "https://localhost:8080/"
        },
        "id": "bZJjDzbifNqr",
        "outputId": "3475f804-8c15-447d-9a5a-60d526e08c8e"
      },
      "execution_count": null,
      "outputs": [
        {
          "output_type": "stream",
          "name": "stdout",
          "text": [
            "Intercept=-12700.47, Slope =210.39\n"
          ]
        },
        {
          "output_type": "stream",
          "name": "stderr",
          "text": [
            "/tmp/ipython-input-3726567468.py:4: DeprecationWarning: Conversion of an array with ndim > 0 to a scalar is deprecated, and will error in future. Ensure you extract a single element from your array before performing this operation. (Deprecated NumPy 1.25.)\n",
            "  w0, w1 = float(w[0]), float(w[1])\n"
          ]
        }
      ]
    },
    {
      "cell_type": "markdown",
      "source": [
        "#Visualize the Fit"
      ],
      "metadata": {
        "id": "NjOrSdcmhQ0d"
      }
    },
    {
      "cell_type": "code",
      "source": [
        "y_hat = X @ w\n",
        "plt.scatter(df[\"size\"], df[\"price\"],label =\"data\")\n",
        "xs = np. linspace (df[\"size\"].min(), df[\"size\"].max(), 100)\n",
        "ys = w0 + w1 * xs\n",
        "plt.plot(xs, ys, label =\"fitted line\")\n",
        "plt.xlabel(\"Size(sq ft)\")\n",
        "plt.ylabel(\"Price($)\")\n",
        "plt.title(\"Linear Regression Fit\")\n",
        "plt.legend()\n",
        "plt.show()"
      ],
      "metadata": {
        "colab": {
          "base_uri": "https://localhost:8080/",
          "height": 472
        },
        "id": "xntydwBGhSBn",
        "outputId": "97d34671-0aee-4bdd-a377-fd8adb29cfc3"
      },
      "execution_count": null,
      "outputs": [
        {
          "output_type": "display_data",
          "data": {
            "text/plain": [
              "<Figure size 640x480 with 1 Axes>"
            ],
            "image/png": "[encoded data removed]"
          },
          "metadata": {}
        }
      ]
    },
    {
      "cell_type": "markdown",
      "source": [
        "#Train/Test Split & Metrics"
      ],
      "metadata": {
        "id": "tMIpQlhbh7d3"
      }
    },
    {
      "cell_type": "code",
      "source": [
        "train = df.iloc[:-2]\n",
        "test = df.iloc[-2:]\n",
        "Xtr = np.hstack([np.ones((len(train),1)), train [\"size\"].to_numpy().reshape(-1 ,1)])\n",
        "ytr = train[\"price\"].to_numpy().reshape(-1 ,1)\n",
        "Xte = np.hstack([np.ones((len(test),1)),test[\"size\"].to_numpy().reshape(-1 ,1)])\n",
        "yte = test [\"price\"].to_numpy().reshape(-1 ,1)\n",
        "\n",
        "w = np.linalg.inv(Xtr.T @ Xtr) @ (Xtr.T @ ytr)\n",
        "\n",
        "yhat_te = Xte @ w"
      ],
      "metadata": {
        "id": "uF_tPbignkZ_"
      },
      "execution_count": null,
      "outputs": []
    },
    {
      "cell_type": "markdown",
      "source": [
        "#Implement GD in 12 Lines"
      ],
      "metadata": {
        "id": "AFEkW19PonZI"
      }
    },
    {
      "cell_type": "code",
      "source": [
        "X = np.hstack([np.ones((len(df),1)), df[\"size\"].to_numpy ().reshape(-1 ,1)])\n",
        "y = df[\"price\"].to_numpy().reshape(-1 ,1)\n",
        "w = np.zeros((2 ,1))\n",
        "alpha = 1e-7\n",
        "for step in range (20000) :\n",
        "  y_hat = X @ w\n",
        "  grad = (2/len(X))*(X.T @ (y_hat - y))\n",
        "  w -= alpha * grad\n",
        "print(w.ravel())"
      ],
      "metadata": {
        "colab": {
          "base_uri": "https://localhost:8080/"
        },
        "id": "Nih_AxBNn0Ax",
        "outputId": "97d8c26c-f9b9-4b4b-c06b-baa17a4a3fb5"
      },
      "execution_count": null,
      "outputs": [
        {
          "output_type": "stream",
          "name": "stdout",
          "text": [
            "[ -5.51066375 200.51550599]\n"
          ]
        }
      ]
    },
    {
      "cell_type": "code",
      "source": [
        "y_pred = X @ w\n",
        "\n",
        "mse = np.mean((y - y_pred)**2)\n",
        "ss_res = np.sum((y - y_pred)**2)\n",
        "ss_tot = np.sum((y - y.mean())**2)\n",
        "r2 = 1 - (ss_res / ss_tot)\n",
        "\n",
        "print(\"MSE:\", mse)\n",
        "print(\"R^2:\", r2)\n"
      ],
      "metadata": {
        "colab": {
          "base_uri": "https://localhost:8080/"
        },
        "id": "RdVE9q-gX77m",
        "outputId": "fc5ee499-1b54-4e31-dcaa-a9af7884a995"
      },
      "execution_count": null,
      "outputs": [
        {
          "output_type": "stream",
          "name": "stdout",
          "text": [
            "MSE: 37100972.64683694\n",
            "R^2: 0.9948928973700941\n"
          ]
        }
      ]
    },
    {
      "cell_type": "markdown",
      "source": [
        "#Added Bedrooms (2 Features)"
      ],
      "metadata": {
        "id": "GWpohOh7op-A"
      }
    },
    {
      "cell_type": "code",
      "source": [
        "X = np.hstack([np.ones((len(df),1)),\n",
        "               df[\"size\"].to_numpy().reshape(-1 ,1),\n",
        "               df[\"bedroom\"].to_numpy().reshape(-1 ,1)])\n",
        "y = df[\"price\"].to_numpy().reshape(-1 ,1)\n",
        "w = np.zeros((3 ,1))\n",
        "alpha = 1e-7\n",
        "for step in range (20000) :\n",
        "  y_hat = X @ w\n",
        "  grad = (2/len(X))*(X.T @ (y_hat - y))\n",
        "  w -= alpha * grad\n",
        "print(w.ravel())"
      ],
      "metadata": {
        "colab": {
          "base_uri": "https://localhost:8080/"
        },
        "id": "GPaA-zcmLhNX",
        "outputId": "d090e593-0011-4c14-f613-ae17f71f1020"
      },
      "execution_count": null,
      "outputs": [
        {
          "output_type": "stream",
          "name": "stdout",
          "text": [
            "[ -5.51064623 200.51437945   0.51247696]\n"
          ]
        }
      ]
    },
    {
      "cell_type": "code",
      "source": [
        "y_pred = X @ w\n",
        "mse = np.mean((y - y_pred)**2)\n",
        "\n",
        "ss_res = np.sum((y - y_pred)**2)\n",
        "ss_tot = np.sum((y - y.mean())**2)\n",
        "r2 = 1 - (ss_res / ss_tot)\n",
        "\n",
        "print(\"MSE:\", mse)\n",
        "print(\"R^2:\", r2)\n"
      ],
      "metadata": {
        "colab": {
          "base_uri": "https://localhost:8080/"
        },
        "id": "56y_Wqc2OLBp",
        "outputId": "34003e56-41df-4310-a82a-135ee8e9daf6"
      },
      "execution_count": null,
      "outputs": [
        {
          "output_type": "stream",
          "name": "stdout",
          "text": [
            "MSE: 37100954.335172616\n",
            "R^2: 0.9948928998907706\n"
          ]
        }
      ]
    }
  ]
}