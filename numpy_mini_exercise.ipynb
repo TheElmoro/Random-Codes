{
  "nbformat": 4,
  "nbformat_minor": 0,
  "metadata": {
    "colab": {
      "provenance": [],
      "authorship_tag": "ABX9TyN2oxyap9B5yZ0ba2bNXbPA",
      "include_colab_link": true
    },
    "kernelspec": {
      "name": "python3",
      "display_name": "Python 3"
    },
    "language_info": {
      "name": "python"
    }
  },
  "cells": [
    {
      "cell_type": "markdown",
      "metadata": {
        "id": "view-in-github",
        "colab_type": "text"
      },
      "source": [
        "<a href=\"https://colab.research.google.com/github/TheElmoro/Random-Codes/blob/main/numpy_mini_exercise.ipynb\" target=\"_parent\"><img src=\"https://colab.research.google.com/assets/colab-badge.svg\" alt=\"Open In Colab\"/></a>"
      ]
    },
    {
      "cell_type": "markdown",
      "source": [
        "1. Create an array of shape (4, 5) with values 0..19. Extract the last column.\n",
        "2. Given arr = np.arange(10), set all odd indices to -1 (in-place).\n",
        "3. Construct a 10×10 multiplication table using broadcasting.\n",
        "4. Generate 1000 samples from N(0,1), compute mean and std, and compare with theory.\n",
        "5. Solve A x = b for a random 4×4 A and random b. Verify the residual is ~0."
      ],
      "metadata": {
        "id": "bPjy_Kj_usu3"
      }
    },
    {
      "cell_type": "code",
      "execution_count": null,
      "metadata": {
        "colab": {
          "base_uri": "https://localhost:8080/"
        },
        "id": "Em0aI5vxepYd",
        "outputId": "7d773abe-1ec2-4c89-9168-6cc5adf2227e"
      },
      "outputs": [
        {
          "output_type": "stream",
          "name": "stdout",
          "text": [
            "1) last column: [ 4  9 14 19]\n",
            "2) odds set to -1: [ 0 -1  2 -1  4 -1  6 -1  8 -1]\n",
            "3) multiplication table (first 5x5):\n",
            "[[ 1  2  3  4  5]\n",
            " [ 2  4  6  8 10]\n",
            " [ 3  6  9 12 15]\n",
            " [ 4  8 12 16 20]\n",
            " [ 5 10 15 20 25]]\n",
            "4) mean: -0.003076781397993999 std: 1.0204301396133606 | theory: mean=0, std=1\n",
            "5) residual norm: 7.696856831808123e-16\n"
          ]
        }
      ],
      "source": [
        "import numpy as np\n",
        "\n",
        "M = np.arange(20).reshape((4, 5))\n",
        "last_col = M[:, 4]\n",
        "print(\"1) last column:\", last_col)\n",
        "\n",
        "arr = np.arange(10)\n",
        "mask_odd = (np.arange(10) % 2 == 1)\n",
        "arr[mask_odd] = -1\n",
        "print(\"2) odds set to -1:\", arr)\n",
        "\n",
        "r = np.arange(1, 11)[:, np.newaxis]\n",
        "c = np.arange(1, 11)\n",
        "mul_table = r * c\n",
        "print(\"3) multiplication table (first 5x5):\")\n",
        "print(mul_table[:5, :5])\n",
        "\n",
        "samples = np.random.randn(1000)\n",
        "mean_val = samples.mean()\n",
        "std_val  = samples.std()\n",
        "print(\"4) mean:\", mean_val, \"std:\", std_val, \"| theory: mean=0, std=1\")\n",
        "\n",
        "A = np.random.randn(4, 4)\n",
        "b = np.random.randn(4)\n",
        "x = np.linalg.solve(A, b)\n",
        "residual = A @ x - b\n",
        "print(\"5) residual norm:\", np.linalg.norm(residual))\n"
      ]
    }
  ]
}